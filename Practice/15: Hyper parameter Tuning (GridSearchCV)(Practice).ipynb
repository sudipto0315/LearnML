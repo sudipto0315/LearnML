{
 "cells": [
  {
   "metadata": {},
   "cell_type": "markdown",
   "source": [
    "### Exercise: Machine Learning Finding Optimal Model and Hyperparameters\n",
    "For digits dataset in sklearn.dataset, please try following classifiers and find out the one that gives best performance. Also find the optimal parameters for that classifier.\n",
    "\n",
    "* from sklearn import svm\n",
    "* from sklearn.ensemble import RandomForestClassifier\n",
    "* from sklearn.linear_model import LogisticRegression\n",
    "* from sklearn.naive_bayes import GaussianNB\n",
    "* from sklearn.naive_bayes import MultinomialNB\n",
    "* from sklearn.tree import DecisionTreeClassifier\n",
    "\n",
    "---"
   ],
   "id": "a35a0fb8af41f9d9"
  },
  {
   "metadata": {
    "ExecuteTime": {
     "end_time": "2024-12-18T16:56:32.562578Z",
     "start_time": "2024-12-18T16:56:32.541199Z"
    }
   },
   "cell_type": "code",
   "source": [
    "import pandas as pd\n",
    "from sklearn import datasets\n",
    "digits=datasets.load_digits()"
   ],
   "id": "136decdbb54a0da8",
   "outputs": [],
   "execution_count": 4
  },
  {
   "metadata": {
    "ExecuteTime": {
     "end_time": "2024-12-18T16:56:32.574491Z",
     "start_time": "2024-12-18T16:56:32.570790Z"
    }
   },
   "cell_type": "code",
   "source": "dir(digits)",
   "id": "83b7da1b5b47c326",
   "outputs": [
    {
     "data": {
      "text/plain": [
       "['DESCR', 'data', 'feature_names', 'frame', 'images', 'target', 'target_names']"
      ]
     },
     "execution_count": 5,
     "metadata": {},
     "output_type": "execute_result"
    }
   ],
   "execution_count": 5
  },
  {
   "metadata": {
    "ExecuteTime": {
     "end_time": "2024-12-18T16:57:43.723574Z",
     "start_time": "2024-12-18T16:57:43.552965Z"
    }
   },
   "cell_type": "code",
   "source": [
    "from sklearn.model_selection import train_test_split\n",
    "X_train, X_test, y_train, y_test = train_test_split(digits.data,digits.target,test_size=0.3,random_state=42)"
   ],
   "id": "a4c169eb2ce0c352",
   "outputs": [],
   "execution_count": 6
  },
  {
   "metadata": {
    "ExecuteTime": {
     "end_time": "2024-12-18T17:00:36.537553Z",
     "start_time": "2024-12-18T17:00:36.157199Z"
    }
   },
   "cell_type": "code",
   "source": [
    "from sklearn import svm\n",
    "from sklearn.ensemble import RandomForestClassifier\n",
    "from sklearn.linear_model import LogisticRegression\n",
    "from sklearn.naive_bayes import GaussianNB\n",
    "from sklearn.naive_bayes import MultinomialNB\n",
    "from sklearn.tree import DecisionTreeClassifier"
   ],
   "id": "b7e7d28aee3d91c8",
   "outputs": [],
   "execution_count": 7
  },
  {
   "metadata": {
    "ExecuteTime": {
     "end_time": "2024-12-18T17:06:10.665538Z",
     "start_time": "2024-12-18T17:06:09.871183Z"
    }
   },
   "cell_type": "code",
   "source": [
    "from sklearn.model_selection import GridSearchCV\n",
    "classifier=GridSearchCV(svm.SVC(),{\n",
    "    'kernel':['linear','rbf'],\n",
    "    'C':[1,10]\n",
    "},cv=5,return_train_score=True)\n",
    "classifier.fit(X_train,y_train)\n",
    "classifier.best_params_"
   ],
   "id": "f4203abc64ad8e43",
   "outputs": [
    {
     "data": {
      "text/plain": [
       "{'C': 10, 'kernel': 'rbf'}"
      ]
     },
     "execution_count": 10,
     "metadata": {},
     "output_type": "execute_result"
    }
   ],
   "execution_count": 10
  },
  {
   "metadata": {
    "ExecuteTime": {
     "end_time": "2024-12-18T17:35:02.501549Z",
     "start_time": "2024-12-18T17:35:02.490615Z"
    }
   },
   "cell_type": "code",
   "source": [
    "model_params={\n",
    "    'svm':{\n",
    "        'model':svm.SVC(gamma='auto'),\n",
    "        'params':{\n",
    "            'kernel':['linear','rbf'],\n",
    "            'C':[1,10,20]\n",
    "        }\n",
    "    },\n",
    "    'random_forest':{\n",
    "        'model':RandomForestClassifier(),\n",
    "        'params':{\n",
    "            'n_estimators':[1,5,10],\n",
    "        }\n",
    "    },\n",
    "    'logistic_regression':{\n",
    "        'model':LogisticRegression(solver='liblinear'),\n",
    "        'params':{\n",
    "            'C':[1,5,10]\n",
    "        }\n",
    "    },\n",
    "    'naivebayes':{\n",
    "        'model':GaussianNB(),\n",
    "        'params':{}\n",
    "    },\n",
    "    'naive_bayes_multinomial': {\n",
    "        'model': MultinomialNB(),\n",
    "        'params': {}\n",
    "    },\n",
    "    'decision_tree': {\n",
    "        'model': DecisionTreeClassifier(),\n",
    "        'params': {\n",
    "            'criterion': ['gini','entropy'],\n",
    "        }\n",
    "    }\n",
    "}"
   ],
   "id": "ef8ec07c27725bfa",
   "outputs": [],
   "execution_count": 15
  },
  {
   "metadata": {
    "ExecuteTime": {
     "end_time": "2024-12-18T17:35:07.405955Z",
     "start_time": "2024-12-18T17:35:03.754487Z"
    }
   },
   "cell_type": "code",
   "source": [
    "scores=[]\n",
    "for model_name,mp in model_params.items():\n",
    "    clf=GridSearchCV(mp['model'],mp['params'],cv=5,return_train_score=True)\n",
    "    clf.fit(X_train,y_train)\n",
    "    scores.append({\n",
    "        'model':model_name,\n",
    "        'best_params':clf.best_params_,\n",
    "        'best_score':clf.best_score_\n",
    "    })\n",
    "grid_search_res=pd.DataFrame(scores,columns=['model','best_params','best_score'])\n",
    "grid_search_res"
   ],
   "id": "59feebdf28fe29bf",
   "outputs": [
    {
     "data": {
      "text/plain": [
       "                     model                   best_params  best_score\n",
       "0                      svm  {'C': 1, 'kernel': 'linear'}    0.968175\n",
       "1            random_forest          {'n_estimators': 10}    0.928413\n",
       "2      logistic_regression                      {'C': 1}    0.944315\n",
       "3               naivebayes                            {}    0.829811\n",
       "4  naive_bayes_multinomial                            {}    0.902147\n",
       "5            decision_tree      {'criterion': 'entropy'}    0.844052"
      ],
      "text/html": [
       "<div>\n",
       "<style scoped>\n",
       "    .dataframe tbody tr th:only-of-type {\n",
       "        vertical-align: middle;\n",
       "    }\n",
       "\n",
       "    .dataframe tbody tr th {\n",
       "        vertical-align: top;\n",
       "    }\n",
       "\n",
       "    .dataframe thead th {\n",
       "        text-align: right;\n",
       "    }\n",
       "</style>\n",
       "<table border=\"1\" class=\"dataframe\">\n",
       "  <thead>\n",
       "    <tr style=\"text-align: right;\">\n",
       "      <th></th>\n",
       "      <th>model</th>\n",
       "      <th>best_params</th>\n",
       "      <th>best_score</th>\n",
       "    </tr>\n",
       "  </thead>\n",
       "  <tbody>\n",
       "    <tr>\n",
       "      <th>0</th>\n",
       "      <td>svm</td>\n",
       "      <td>{'C': 1, 'kernel': 'linear'}</td>\n",
       "      <td>0.968175</td>\n",
       "    </tr>\n",
       "    <tr>\n",
       "      <th>1</th>\n",
       "      <td>random_forest</td>\n",
       "      <td>{'n_estimators': 10}</td>\n",
       "      <td>0.928413</td>\n",
       "    </tr>\n",
       "    <tr>\n",
       "      <th>2</th>\n",
       "      <td>logistic_regression</td>\n",
       "      <td>{'C': 1}</td>\n",
       "      <td>0.944315</td>\n",
       "    </tr>\n",
       "    <tr>\n",
       "      <th>3</th>\n",
       "      <td>naivebayes</td>\n",
       "      <td>{}</td>\n",
       "      <td>0.829811</td>\n",
       "    </tr>\n",
       "    <tr>\n",
       "      <th>4</th>\n",
       "      <td>naive_bayes_multinomial</td>\n",
       "      <td>{}</td>\n",
       "      <td>0.902147</td>\n",
       "    </tr>\n",
       "    <tr>\n",
       "      <th>5</th>\n",
       "      <td>decision_tree</td>\n",
       "      <td>{'criterion': 'entropy'}</td>\n",
       "      <td>0.844052</td>\n",
       "    </tr>\n",
       "  </tbody>\n",
       "</table>\n",
       "</div>"
      ]
     },
     "execution_count": 16,
     "metadata": {},
     "output_type": "execute_result"
    }
   ],
   "execution_count": 16
  },
  {
   "metadata": {},
   "cell_type": "markdown",
   "source": [
    "\n",
    "For me the winner is svm (C=1, kernel=linear) with 96.81% score. It could be different for you as I have limited my parameters to be certain values only"
   ],
   "id": "197e33f8e21d08e6"
  },
  {
   "metadata": {},
   "cell_type": "markdown",
   "source": "### Now with Randomized Search CV",
   "id": "226abe9b289cd994"
  },
  {
   "metadata": {
    "ExecuteTime": {
     "end_time": "2024-12-18T17:41:24.736298Z",
     "start_time": "2024-12-18T17:41:20.995437Z"
    }
   },
   "cell_type": "code",
   "source": [
    "from sklearn.model_selection import RandomizedSearchCV\n",
    "scores=[]\n",
    "for model_name,mp in model_params.items():\n",
    "    clf=RandomizedSearchCV(mp['model'],mp['params'],cv=5,return_train_score=True)\n",
    "    clf.fit(X_train,y_train)\n",
    "    scores.append({\n",
    "        'model':model_name,\n",
    "        'best_params':clf.best_params_,\n",
    "        'best_score':clf.best_score_\n",
    "    })\n",
    "random_search_res=pd.DataFrame(scores,columns=['model','best_params','best_score'])\n",
    "random_search_res"
   ],
   "id": "5107f247bffc8744",
   "outputs": [
    {
     "name": "stderr",
     "output_type": "stream",
     "text": [
      "/Users/sudiptoray/Developer/LearnML/ML_venv/lib/python3.13/site-packages/sklearn/model_selection/_search.py:317: UserWarning: The total space of parameters 6 is smaller than n_iter=10. Running 6 iterations. For exhaustive searches, use GridSearchCV.\n",
      "  warnings.warn(\n",
      "/Users/sudiptoray/Developer/LearnML/ML_venv/lib/python3.13/site-packages/sklearn/model_selection/_search.py:317: UserWarning: The total space of parameters 3 is smaller than n_iter=10. Running 3 iterations. For exhaustive searches, use GridSearchCV.\n",
      "  warnings.warn(\n",
      "/Users/sudiptoray/Developer/LearnML/ML_venv/lib/python3.13/site-packages/sklearn/model_selection/_search.py:317: UserWarning: The total space of parameters 3 is smaller than n_iter=10. Running 3 iterations. For exhaustive searches, use GridSearchCV.\n",
      "  warnings.warn(\n",
      "/Users/sudiptoray/Developer/LearnML/ML_venv/lib/python3.13/site-packages/sklearn/model_selection/_search.py:317: UserWarning: The total space of parameters 1 is smaller than n_iter=10. Running 1 iterations. For exhaustive searches, use GridSearchCV.\n",
      "  warnings.warn(\n",
      "/Users/sudiptoray/Developer/LearnML/ML_venv/lib/python3.13/site-packages/sklearn/model_selection/_search.py:317: UserWarning: The total space of parameters 1 is smaller than n_iter=10. Running 1 iterations. For exhaustive searches, use GridSearchCV.\n",
      "  warnings.warn(\n",
      "/Users/sudiptoray/Developer/LearnML/ML_venv/lib/python3.13/site-packages/sklearn/model_selection/_search.py:317: UserWarning: The total space of parameters 2 is smaller than n_iter=10. Running 2 iterations. For exhaustive searches, use GridSearchCV.\n",
      "  warnings.warn(\n"
     ]
    },
    {
     "data": {
      "text/plain": [
       "                     model                   best_params  best_score\n",
       "0                      svm  {'kernel': 'linear', 'C': 1}    0.968175\n",
       "1            random_forest          {'n_estimators': 10}    0.926826\n",
       "2      logistic_regression                      {'C': 1}    0.944315\n",
       "3               naivebayes                            {}    0.829811\n",
       "4  naive_bayes_multinomial                            {}    0.902147\n",
       "5            decision_tree      {'criterion': 'entropy'}    0.842471"
      ],
      "text/html": [
       "<div>\n",
       "<style scoped>\n",
       "    .dataframe tbody tr th:only-of-type {\n",
       "        vertical-align: middle;\n",
       "    }\n",
       "\n",
       "    .dataframe tbody tr th {\n",
       "        vertical-align: top;\n",
       "    }\n",
       "\n",
       "    .dataframe thead th {\n",
       "        text-align: right;\n",
       "    }\n",
       "</style>\n",
       "<table border=\"1\" class=\"dataframe\">\n",
       "  <thead>\n",
       "    <tr style=\"text-align: right;\">\n",
       "      <th></th>\n",
       "      <th>model</th>\n",
       "      <th>best_params</th>\n",
       "      <th>best_score</th>\n",
       "    </tr>\n",
       "  </thead>\n",
       "  <tbody>\n",
       "    <tr>\n",
       "      <th>0</th>\n",
       "      <td>svm</td>\n",
       "      <td>{'kernel': 'linear', 'C': 1}</td>\n",
       "      <td>0.968175</td>\n",
       "    </tr>\n",
       "    <tr>\n",
       "      <th>1</th>\n",
       "      <td>random_forest</td>\n",
       "      <td>{'n_estimators': 10}</td>\n",
       "      <td>0.926826</td>\n",
       "    </tr>\n",
       "    <tr>\n",
       "      <th>2</th>\n",
       "      <td>logistic_regression</td>\n",
       "      <td>{'C': 1}</td>\n",
       "      <td>0.944315</td>\n",
       "    </tr>\n",
       "    <tr>\n",
       "      <th>3</th>\n",
       "      <td>naivebayes</td>\n",
       "      <td>{}</td>\n",
       "      <td>0.829811</td>\n",
       "    </tr>\n",
       "    <tr>\n",
       "      <th>4</th>\n",
       "      <td>naive_bayes_multinomial</td>\n",
       "      <td>{}</td>\n",
       "      <td>0.902147</td>\n",
       "    </tr>\n",
       "    <tr>\n",
       "      <th>5</th>\n",
       "      <td>decision_tree</td>\n",
       "      <td>{'criterion': 'entropy'}</td>\n",
       "      <td>0.842471</td>\n",
       "    </tr>\n",
       "  </tbody>\n",
       "</table>\n",
       "</div>"
      ]
     },
     "execution_count": 19,
     "metadata": {},
     "output_type": "execute_result"
    }
   ],
   "execution_count": 19
  },
  {
   "metadata": {},
   "cell_type": "markdown",
   "source": "For me the winner is svm (C=1, kernel=linear) with 96.81% score. It could be different for you as I have limited my parameters to be certain values only\n",
   "id": "242e7403ac8decaf"
  },
  {
   "metadata": {},
   "cell_type": "code",
   "outputs": [],
   "execution_count": null,
   "source": "",
   "id": "245ca2bb4c9fddac"
  }
 ],
 "metadata": {
  "kernelspec": {
   "display_name": "Python 3",
   "language": "python",
   "name": "python3"
  },
  "language_info": {
   "codemirror_mode": {
    "name": "ipython",
    "version": 2
   },
   "file_extension": ".py",
   "mimetype": "text/x-python",
   "name": "python",
   "nbconvert_exporter": "python",
   "pygments_lexer": "ipython2",
   "version": "2.7.6"
  }
 },
 "nbformat": 4,
 "nbformat_minor": 5
}
