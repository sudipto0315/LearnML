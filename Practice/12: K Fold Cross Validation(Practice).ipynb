{
 "cells": [
  {
   "metadata": {},
   "cell_type": "markdown",
   "source": [
    "Exercise\n",
    "Use iris flower dataset from sklearn library and use cross_val_score against following models to measure the performance of each. In the end figure out the model with best performance,\n",
    "\n",
    "1. Logistic Regression\n",
    "2. SVM\n",
    "3. Decision Tree\n",
    "4. Random Forest"
   ],
   "id": "93a0e263ceb07161"
  },
  {
   "metadata": {
    "ExecuteTime": {
     "end_time": "2024-12-18T11:03:59.472418Z",
     "start_time": "2024-12-18T11:03:58.470039Z"
    }
   },
   "cell_type": "code",
   "source": [
    "from sklearn.datasets import load_iris\n",
    "from sklearn.model_selection import cross_val_score\n",
    "from sklearn.linear_model import LogisticRegression\n",
    "from sklearn.tree import DecisionTreeClassifier\n",
    "from sklearn.svm import SVC\n",
    "from sklearn.ensemble import RandomForestClassifier\n",
    "import numpy as np"
   ],
   "id": "9e7a709e19ca777b",
   "outputs": [],
   "execution_count": 1
  },
  {
   "metadata": {
    "ExecuteTime": {
     "end_time": "2024-12-18T11:04:04.185237Z",
     "start_time": "2024-12-18T11:04:04.177149Z"
    }
   },
   "cell_type": "code",
   "source": "iris = load_iris()",
   "id": "24579ad007f205de",
   "outputs": [],
   "execution_count": 2
  },
  {
   "metadata": {},
   "cell_type": "markdown",
   "source": "### Logistic Regression",
   "id": "57b41826665870c1"
  },
  {
   "metadata": {
    "ExecuteTime": {
     "end_time": "2024-12-18T11:04:34.500016Z",
     "start_time": "2024-12-18T11:04:34.459655Z"
    }
   },
   "cell_type": "code",
   "source": [
    "l_scores = cross_val_score(LogisticRegression(max_iter=1000), iris.data, iris.target)\n",
    "l_scores"
   ],
   "id": "aca50529a842d23d",
   "outputs": [
    {
     "data": {
      "text/plain": [
       "array([0.96666667, 1.        , 0.93333333, 0.96666667, 1.        ])"
      ]
     },
     "execution_count": 4,
     "metadata": {},
     "output_type": "execute_result"
    }
   ],
   "execution_count": 4
  },
  {
   "metadata": {
    "ExecuteTime": {
     "end_time": "2024-12-18T11:04:44.692515Z",
     "start_time": "2024-12-18T11:04:44.679980Z"
    }
   },
   "cell_type": "code",
   "source": "np.average(l_scores)",
   "id": "b130db3b4ca02070",
   "outputs": [
    {
     "data": {
      "text/plain": [
       "np.float64(0.9733333333333334)"
      ]
     },
     "execution_count": 5,
     "metadata": {},
     "output_type": "execute_result"
    }
   ],
   "execution_count": 5
  },
  {
   "metadata": {},
   "cell_type": "markdown",
   "source": "### Decision Tree",
   "id": "cc20165f5754a1c3"
  },
  {
   "metadata": {
    "ExecuteTime": {
     "end_time": "2024-12-18T11:04:53.719589Z",
     "start_time": "2024-12-18T11:04:53.702334Z"
    }
   },
   "cell_type": "code",
   "source": [
    "d_scores = cross_val_score(DecisionTreeClassifier(), iris.data, iris.target)\n",
    "d_scores"
   ],
   "id": "e89c139fbc0600bd",
   "outputs": [
    {
     "data": {
      "text/plain": [
       "array([0.96666667, 0.96666667, 0.9       , 0.96666667, 1.        ])"
      ]
     },
     "execution_count": 6,
     "metadata": {},
     "output_type": "execute_result"
    }
   ],
   "execution_count": 6
  },
  {
   "metadata": {
    "ExecuteTime": {
     "end_time": "2024-12-18T11:05:08.522453Z",
     "start_time": "2024-12-18T11:05:08.515313Z"
    }
   },
   "cell_type": "code",
   "source": "np.average(d_scores)",
   "id": "9150995e6fb034db",
   "outputs": [
    {
     "data": {
      "text/plain": [
       "np.float64(0.9600000000000002)"
      ]
     },
     "execution_count": 7,
     "metadata": {},
     "output_type": "execute_result"
    }
   ],
   "execution_count": 7
  },
  {
   "metadata": {},
   "cell_type": "markdown",
   "source": "### Support Vector Machine (SVM)",
   "id": "70e270c8a29fa436"
  },
  {
   "metadata": {
    "ExecuteTime": {
     "end_time": "2024-12-18T11:06:14.739497Z",
     "start_time": "2024-12-18T11:06:14.713392Z"
    }
   },
   "cell_type": "code",
   "source": [
    "s_scores = cross_val_score(SVC(), iris.data, iris.target)\n",
    "s_scores"
   ],
   "id": "b92be7b3596dbd36",
   "outputs": [
    {
     "data": {
      "text/plain": [
       "array([0.96666667, 0.96666667, 0.96666667, 0.93333333, 1.        ])"
      ]
     },
     "execution_count": 8,
     "metadata": {},
     "output_type": "execute_result"
    }
   ],
   "execution_count": 8
  },
  {
   "metadata": {
    "ExecuteTime": {
     "end_time": "2024-12-18T11:06:25.239644Z",
     "start_time": "2024-12-18T11:06:25.230603Z"
    }
   },
   "cell_type": "code",
   "source": "np.average(s_scores)",
   "id": "8339ffa572bf15c4",
   "outputs": [
    {
     "data": {
      "text/plain": [
       "np.float64(0.9666666666666666)"
      ]
     },
     "execution_count": 9,
     "metadata": {},
     "output_type": "execute_result"
    }
   ],
   "execution_count": 9
  },
  {
   "metadata": {},
   "cell_type": "markdown",
   "source": "### Random Forest",
   "id": "127d4f42c54e85c"
  },
  {
   "metadata": {
    "ExecuteTime": {
     "end_time": "2024-12-18T11:06:51.955699Z",
     "start_time": "2024-12-18T11:06:51.834333Z"
    }
   },
   "cell_type": "code",
   "source": [
    "r_scores = cross_val_score(RandomForestClassifier(n_estimators=40), iris.data, iris.target)\n",
    "r_scores"
   ],
   "id": "da558192ba637277",
   "outputs": [
    {
     "data": {
      "text/plain": [
       "array([0.96666667, 0.96666667, 0.93333333, 0.9       , 1.        ])"
      ]
     },
     "execution_count": 10,
     "metadata": {},
     "output_type": "execute_result"
    }
   ],
   "execution_count": 10
  },
  {
   "metadata": {
    "ExecuteTime": {
     "end_time": "2024-12-18T11:07:08.868886Z",
     "start_time": "2024-12-18T11:07:08.859694Z"
    }
   },
   "cell_type": "code",
   "source": "np.average(r_scores)",
   "id": "43bd19598072573b",
   "outputs": [
    {
     "data": {
      "text/plain": [
       "np.float64(0.96)"
      ]
     },
     "execution_count": 12,
     "metadata": {},
     "output_type": "execute_result"
    }
   ],
   "execution_count": 12
  },
  {
   "metadata": {},
   "cell_type": "markdown",
   "source": "### Best score so far is from SVM: 0.97344771241830064",
   "id": "edf09ed7f330b9e3"
  },
  {
   "metadata": {},
   "cell_type": "code",
   "outputs": [],
   "execution_count": null,
   "source": "",
   "id": "5e1f444aa349c372"
  }
 ],
 "metadata": {
  "kernelspec": {
   "display_name": "Python 3",
   "language": "python",
   "name": "python3"
  },
  "language_info": {
   "codemirror_mode": {
    "name": "ipython",
    "version": 2
   },
   "file_extension": ".py",
   "mimetype": "text/x-python",
   "name": "python",
   "nbconvert_exporter": "python",
   "pygments_lexer": "ipython2",
   "version": "2.7.6"
  }
 },
 "nbformat": 4,
 "nbformat_minor": 5
}
