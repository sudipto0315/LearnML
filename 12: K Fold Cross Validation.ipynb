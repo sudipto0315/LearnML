{
 "cells": [
  {
   "cell_type": "code",
   "id": "initial_id",
   "metadata": {
    "collapsed": true,
    "ExecuteTime": {
     "end_time": "2024-12-18T10:40:36.575807Z",
     "start_time": "2024-12-18T10:40:35.455971Z"
    }
   },
   "source": [
    "from sklearn.linear_model import LogisticRegression\n",
    "from sklearn.svm import SVC\n",
    "from sklearn.ensemble import RandomForestClassifier\n",
    "import numpy as np\n",
    "from sklearn.datasets import load_digits\n",
    "import matplotlib.pyplot as plt\n",
    "digits = load_digits()"
   ],
   "outputs": [],
   "execution_count": 1
  },
  {
   "metadata": {
    "ExecuteTime": {
     "end_time": "2024-12-18T10:43:13.715788Z",
     "start_time": "2024-12-18T10:43:13.704851Z"
    }
   },
   "cell_type": "code",
   "source": [
    "from sklearn.model_selection import train_test_split\n",
    "X_train, X_test, y_train, y_test = train_test_split(digits.data,digits.target,test_size=0.3,random_state=42)"
   ],
   "id": "997c36f1030e9bd1",
   "outputs": [],
   "execution_count": 2
  },
  {
   "metadata": {},
   "cell_type": "markdown",
   "source": "### Logistic Regression",
   "id": "4b3ee3e9e00fb09b"
  },
  {
   "metadata": {
    "ExecuteTime": {
     "end_time": "2024-12-18T10:43:38.115652Z",
     "start_time": "2024-12-18T10:43:38.023317Z"
    }
   },
   "cell_type": "code",
   "source": [
    "lr = LogisticRegression(solver='liblinear')\n",
    "lr.fit(X_train, y_train)\n",
    "lr.score(X_test, y_test)"
   ],
   "id": "82a644edecb17fba",
   "outputs": [
    {
     "data": {
      "text/plain": [
       "0.9537037037037037"
      ]
     },
     "execution_count": 4,
     "metadata": {},
     "output_type": "execute_result"
    }
   ],
   "execution_count": 4
  },
  {
   "metadata": {},
   "cell_type": "markdown",
   "source": "### SVM",
   "id": "81fd4b9a41d597e5"
  },
  {
   "metadata": {
    "ExecuteTime": {
     "end_time": "2024-12-18T10:44:51.137711Z",
     "start_time": "2024-12-18T10:44:50.978195Z"
    }
   },
   "cell_type": "code",
   "source": [
    "svm = SVC(gamma='auto')\n",
    "svm.fit(X_train, y_train)\n",
    "svm.score(X_test, y_test)"
   ],
   "id": "7d598dcb3e979ac9",
   "outputs": [
    {
     "data": {
      "text/plain": [
       "0.3925925925925926"
      ]
     },
     "execution_count": 5,
     "metadata": {},
     "output_type": "execute_result"
    }
   ],
   "execution_count": 5
  },
  {
   "metadata": {},
   "cell_type": "markdown",
   "source": "### Random Forest",
   "id": "fff84e5241e20bf"
  },
  {
   "metadata": {
    "ExecuteTime": {
     "end_time": "2024-12-18T10:45:10.194162Z",
     "start_time": "2024-12-18T10:45:10.106250Z"
    }
   },
   "cell_type": "code",
   "source": [
    "rf = RandomForestClassifier(n_estimators=40)\n",
    "rf.fit(X_train, y_train)\n",
    "rf.score(X_test, y_test)"
   ],
   "id": "62dd826c4e3d7cb4",
   "outputs": [
    {
     "data": {
      "text/plain": [
       "0.9703703703703703"
      ]
     },
     "execution_count": 6,
     "metadata": {},
     "output_type": "execute_result"
    }
   ],
   "execution_count": 6
  },
  {
   "metadata": {},
   "cell_type": "markdown",
   "source": [
    "## KFold cross validation\n",
    "\n",
    "Basic example"
   ],
   "id": "31efc7994a956973"
  },
  {
   "metadata": {
    "ExecuteTime": {
     "end_time": "2024-12-18T10:46:44.821283Z",
     "start_time": "2024-12-18T10:46:44.812989Z"
    }
   },
   "cell_type": "code",
   "source": [
    "from sklearn.model_selection import KFold\n",
    "kf = KFold(n_splits=3)\n",
    "kf"
   ],
   "id": "c634baaa4ea1fc18",
   "outputs": [
    {
     "data": {
      "text/plain": [
       "KFold(n_splits=3, random_state=None, shuffle=False)"
      ]
     },
     "execution_count": 7,
     "metadata": {},
     "output_type": "execute_result"
    }
   ],
   "execution_count": 7
  },
  {
   "metadata": {
    "ExecuteTime": {
     "end_time": "2024-12-18T10:47:00.616490Z",
     "start_time": "2024-12-18T10:47:00.604703Z"
    }
   },
   "cell_type": "code",
   "source": [
    "for train_index, test_index in kf.split([1,2,3,4,5,6,7,8,9]):\n",
    "    print(train_index, test_index)"
   ],
   "id": "72031dd0370d6d0b",
   "outputs": [
    {
     "name": "stdout",
     "output_type": "stream",
     "text": [
      "[3 4 5 6 7 8] [0 1 2]\n",
      "[0 1 2 6 7 8] [3 4 5]\n",
      "[0 1 2 3 4 5] [6 7 8]\n"
     ]
    }
   ],
   "execution_count": 8
  },
  {
   "metadata": {},
   "cell_type": "markdown",
   "source": "### Use KFold for our digits example",
   "id": "3c443a59385dfcf9"
  },
  {
   "metadata": {
    "ExecuteTime": {
     "end_time": "2024-12-18T10:47:59.350153Z",
     "start_time": "2024-12-18T10:47:59.341440Z"
    }
   },
   "cell_type": "code",
   "source": [
    "def get_score(model, X_train, X_test, y_train, y_test):\n",
    "    model.fit(X_train, y_train)\n",
    "    return model.score(X_test, y_test)"
   ],
   "id": "a341a11ac825e78b",
   "outputs": [],
   "execution_count": 9
  },
  {
   "metadata": {
    "ExecuteTime": {
     "end_time": "2024-12-18T10:51:46.815816Z",
     "start_time": "2024-12-18T10:51:46.712210Z"
    }
   },
   "cell_type": "code",
   "source": "get_score(LogisticRegression(solver='liblinear'), X_train, X_test, y_train, y_test)",
   "id": "962431b756a44874",
   "outputs": [
    {
     "data": {
      "text/plain": [
       "0.9537037037037037"
      ]
     },
     "execution_count": 10,
     "metadata": {},
     "output_type": "execute_result"
    }
   ],
   "execution_count": 10
  },
  {
   "metadata": {
    "ExecuteTime": {
     "end_time": "2024-12-18T10:56:19.431545Z",
     "start_time": "2024-12-18T10:56:18.666389Z"
    }
   },
   "cell_type": "code",
   "source": [
    "from sklearn.model_selection import StratifiedKFold\n",
    "folds = StratifiedKFold(n_splits=3)\n",
    "\n",
    "scores_logistic = []\n",
    "scores_svm = []\n",
    "scores_rf = []\n",
    "\n",
    "for train_index, test_index in folds.split(digits.data,digits.target):\n",
    "    X_train, X_test, y_train, y_test = digits.data[train_index], digits.data[test_index],digits.target[train_index], digits.target[test_index]\n",
    "    scores_logistic.append(get_score(LogisticRegression(solver='liblinear'), X_train, X_test, y_train, y_test))\n",
    "    scores_svm.append(get_score(SVC(gamma='auto'), X_train, X_test, y_train, y_test))\n",
    "    scores_rf.append(get_score(RandomForestClassifier(n_estimators=40), X_train, X_test, y_train, y_test))"
   ],
   "id": "bbda7c626525a1d5",
   "outputs": [],
   "execution_count": 12
  },
  {
   "metadata": {
    "ExecuteTime": {
     "end_time": "2024-12-18T10:56:26.875273Z",
     "start_time": "2024-12-18T10:56:26.865083Z"
    }
   },
   "cell_type": "code",
   "source": "scores_logistic",
   "id": "f28072cd674a6def",
   "outputs": [
    {
     "data": {
      "text/plain": [
       "[0.8948247078464107, 0.9532554257095158, 0.9098497495826378]"
      ]
     },
     "execution_count": 13,
     "metadata": {},
     "output_type": "execute_result"
    }
   ],
   "execution_count": 13
  },
  {
   "metadata": {
    "ExecuteTime": {
     "end_time": "2024-12-18T10:56:32.432581Z",
     "start_time": "2024-12-18T10:56:32.427991Z"
    }
   },
   "cell_type": "code",
   "source": "scores_svm",
   "id": "10c42da1ca2e46c",
   "outputs": [
    {
     "data": {
      "text/plain": [
       "[0.3806343906510851, 0.41068447412353926, 0.5125208681135225]"
      ]
     },
     "execution_count": 14,
     "metadata": {},
     "output_type": "execute_result"
    }
   ],
   "execution_count": 14
  },
  {
   "metadata": {
    "ExecuteTime": {
     "end_time": "2024-12-18T10:56:44.543658Z",
     "start_time": "2024-12-18T10:56:44.538537Z"
    }
   },
   "cell_type": "code",
   "source": "scores_rf",
   "id": "320f57b2d9ccfd6c",
   "outputs": [
    {
     "data": {
      "text/plain": [
       "[0.9348914858096828, 0.9398998330550918, 0.9332220367278798]"
      ]
     },
     "execution_count": 16,
     "metadata": {},
     "output_type": "execute_result"
    }
   ],
   "execution_count": 16
  },
  {
   "metadata": {},
   "cell_type": "markdown",
   "source": "### cross_val_score function",
   "id": "d93dfaf2a67ef38f"
  },
  {
   "metadata": {
    "ExecuteTime": {
     "end_time": "2024-12-18T10:57:45.946457Z",
     "start_time": "2024-12-18T10:57:45.941604Z"
    }
   },
   "cell_type": "code",
   "source": "from sklearn.model_selection import cross_val_score",
   "id": "e6f8db3f917d75e4",
   "outputs": [],
   "execution_count": 17
  },
  {
   "metadata": {},
   "cell_type": "markdown",
   "source": "### Logistic regression model performance using cross_val_score",
   "id": "e636231dc811ea1c"
  },
  {
   "metadata": {
    "ExecuteTime": {
     "end_time": "2024-12-18T10:58:14.893953Z",
     "start_time": "2024-12-18T10:58:14.668970Z"
    }
   },
   "cell_type": "code",
   "source": "cross_val_score(LogisticRegression(solver='liblinear'), digits.data, digits.target,cv=3)",
   "id": "44f23570fb41e492",
   "outputs": [
    {
     "data": {
      "text/plain": [
       "array([0.89482471, 0.95325543, 0.90984975])"
      ]
     },
     "execution_count": 18,
     "metadata": {},
     "output_type": "execute_result"
    }
   ],
   "execution_count": 18
  },
  {
   "metadata": {},
   "cell_type": "markdown",
   "source": "### svm model performance using cross_val_score",
   "id": "a077b41df97b8a31"
  },
  {
   "metadata": {
    "ExecuteTime": {
     "end_time": "2024-12-18T10:58:49.545027Z",
     "start_time": "2024-12-18T10:58:49.137126Z"
    }
   },
   "cell_type": "code",
   "source": "cross_val_score(SVC(gamma='auto'), digits.data, digits.target,cv=3)",
   "id": "f9f1e01baafce460",
   "outputs": [
    {
     "data": {
      "text/plain": [
       "array([0.38063439, 0.41068447, 0.51252087])"
      ]
     },
     "execution_count": 19,
     "metadata": {},
     "output_type": "execute_result"
    }
   ],
   "execution_count": 19
  },
  {
   "metadata": {},
   "cell_type": "markdown",
   "source": "### random forest performance using cross_val_score",
   "id": "b0e0f5dc7f0065ac"
  },
  {
   "metadata": {
    "ExecuteTime": {
     "end_time": "2024-12-18T10:59:23.732927Z",
     "start_time": "2024-12-18T10:59:23.535261Z"
    }
   },
   "cell_type": "code",
   "source": "cross_val_score(RandomForestClassifier(n_estimators=40),digits.data, digits.target,cv=3)",
   "id": "b135b0019505dc27",
   "outputs": [
    {
     "data": {
      "text/plain": [
       "array([0.92821369, 0.93823038, 0.91819699])"
      ]
     },
     "execution_count": 20,
     "metadata": {},
     "output_type": "execute_result"
    }
   ],
   "execution_count": 20
  },
  {
   "metadata": {},
   "cell_type": "markdown",
   "source": "cross_val_score uses stratifield kfold by default",
   "id": "a6b5982d568bbbbb"
  },
  {
   "metadata": {},
   "cell_type": "code",
   "outputs": [],
   "execution_count": null,
   "source": "",
   "id": "11f45ab8535b3053"
  }
 ],
 "metadata": {
  "kernelspec": {
   "display_name": "Python 3",
   "language": "python",
   "name": "python3"
  },
  "language_info": {
   "codemirror_mode": {
    "name": "ipython",
    "version": 2
   },
   "file_extension": ".py",
   "mimetype": "text/x-python",
   "name": "python",
   "nbconvert_exporter": "python",
   "pygments_lexer": "ipython2",
   "version": "2.7.6"
  }
 },
 "nbformat": 4,
 "nbformat_minor": 5
}
